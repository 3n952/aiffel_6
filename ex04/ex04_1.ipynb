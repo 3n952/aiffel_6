{
 "cells": [
  {
   "cell_type": "markdown",
   "id": "413fe516",
   "metadata": {},
   "source": [
    "# 네이버 영화리뷰로 감성분석을 해보자! \n",
    "\n",
    "- dataset: Naver sentiment movie corus"
   ]
  },
  {
   "cell_type": "code",
   "execution_count": null,
   "id": "432ae446",
   "metadata": {},
   "outputs": [],
   "source": [
    "import pandas\n",
    "import konlpy\n",
    "import gensim\n",
    "import numpy as np\n",
    "import re\n",
    "import tensorflow as tf\n",
    "import os\n",
    "\n",
    "print(pandas.__version__)\n",
    "print(konlpy.__version__)\n",
    "print(gensim.__version__)"
   ]
  },
  {
   "cell_type": "code",
   "execution_count": null,
   "id": "ee6e8d81",
   "metadata": {},
   "outputs": [],
   "source": [
    "#데이터 준비하기\n",
    "\n",
    "import pandas as pd\n",
    "\n",
    "# 데이터를 읽어봅시다. \n",
    "train_data = pd.read_table('~/aiffel/workspace/sentimental_classification/data/ratings_train.txt')\n",
    "test_data = pd.read_table('~/aiffel/workspace/sentimental_classification/data/ratings_test.txt')\n",
    "\n",
    "#train 데이터 살펴보기\n",
    "train_data.head()"
   ]
  },
  {
   "cell_type": "code",
   "execution_count": null,
   "id": "75695001",
   "metadata": {},
   "outputs": [],
   "source": [
    "#테스트 데이터 살펴보기\n",
    "test_data.head()"
   ]
  },
  {
   "cell_type": "code",
   "execution_count": null,
   "id": "617953fd",
   "metadata": {},
   "outputs": [],
   "source": [
    "train_data.info"
   ]
  },
  {
   "cell_type": "markdown",
   "id": "6db019ba",
   "metadata": {},
   "source": [
    "train / test => 150,000 / 50,000 개\n",
    "\n",
    "train의 2번처럼 띄어쓰기가 안된 것을 처리하는 방법 / test의 0번,1번처럼 ㅋ이나 한글을 영어타자로 쓴 것을 처리하는 방법에 대해 고민해볼 필요가 있어보인다."
   ]
  },
  {
   "cell_type": "markdown",
   "id": "b73f268a",
   "metadata": {},
   "source": [
    "# dataloader \n",
    "\n",
    "- 데이터 중복제거\n",
    "- nan 값 제거\n",
    "- 한국어 토크나이저\n",
    "- 불용어 제거\n",
    "- 사전 구성\n",
    "- 텍스트 스트링을 인덱스 스트링으로 변환\n",
    "- train, test의 x,y값과 word2index가 리턴되어야함!\n",
    "\n",
    "의 역할을 해야한다."
   ]
  },
  {
   "cell_type": "markdown",
   "id": "5bc0bf88",
   "metadata": {},
   "source": [
    "# dataloader 함수에서 각 전처리를 하기위해 확인해야 할 것들.\n",
    "\n",
    "### 1. 중복제거, nan값 제거"
   ]
  },
  {
   "cell_type": "code",
   "execution_count": null,
   "id": "1c751001",
   "metadata": {},
   "outputs": [],
   "source": [
    "## 복사해서 사용\n",
    "train_data_c = train_data.copy() \n",
    "test_data_c = test_data.copy() \n",
    "\n",
    "# document 열과 label 열의 중복을 제외한 값의 개수\n",
    "train_data['document'].nunique(), train_data['label'].nunique()"
   ]
  },
  {
   "cell_type": "code",
   "execution_count": null,
   "id": "28895ca2",
   "metadata": {},
   "outputs": [],
   "source": [
    "#nan값 확인\n",
    "print(train_data_c.isnull().values.any())"
   ]
  },
  {
   "cell_type": "code",
   "execution_count": null,
   "id": "1416240b",
   "metadata": {},
   "outputs": [],
   "source": [
    "#어떤 열에 있는지 개수 확인\n",
    "print(train_data_c.isnull().sum())"
   ]
  },
  {
   "cell_type": "code",
   "execution_count": null,
   "id": "74834ca8",
   "metadata": {},
   "outputs": [],
   "source": [
    "#nan 값을 가진 샘플 출력\n",
    "train_data_c.loc[train_data.document.isnull()]"
   ]
  },
  {
   "cell_type": "code",
   "execution_count": null,
   "id": "33c69d84",
   "metadata": {},
   "outputs": [],
   "source": [
    "#null값을 제거하고 잘 제거되었는지 확인 \n",
    "\n",
    "train_data_c = train_data_c.dropna(how = 'any') # Null 값이 존재하는 행 제거\n",
    "print(train_data_c.isnull().values.any()) # Null 값이 존재하는지 확인"
   ]
  },
  {
   "cell_type": "code",
   "execution_count": null,
   "id": "ff166a74",
   "metadata": {},
   "outputs": [],
   "source": [
    "# 정규표현식을 활용하여 한글과 공백을 제외하고 모두 제거 + 살펴보기\n",
    "\n",
    "train_data_c['document'] = train_data_c['document'].str.replace(\"[^ㄱ-ㅎㅏ-ㅣ가-힣 ]\", \"\", regex=True)                 \n",
    "train_data_c[:5]"
   ]
  },
  {
   "cell_type": "code",
   "execution_count": null,
   "id": "6331324c",
   "metadata": {},
   "outputs": [],
   "source": [
    "# + 네이버 영화 리뷰는 영어 숫자 특수문자도 있어 이를 제거해줘야한다고 한다.\n",
    "\n",
    "# 해당 데이터를 null값으로 변경\n",
    "\n",
    "train_data_c['document'] = train_data_c['document'].str.replace('^ +', \"\", regex=True) # white space 데이터를 empty value로 변경\n",
    "train_data_c['document'].replace('', np.nan, inplace=True)\n",
    "print(train_data_c.isnull().sum())"
   ]
  },
  {
   "cell_type": "code",
   "execution_count": null,
   "id": "4352e16d",
   "metadata": {},
   "outputs": [],
   "source": [
    "# 해당 row를 제거해주기\n",
    "\n",
    "train_data_c = train_data_c.dropna(how = 'any')\n",
    "print('테스트용 샘플의 개수 : 150,000에서 ',len(train_data_c),'로 변화함.')"
   ]
  },
  {
   "cell_type": "code",
   "execution_count": null,
   "id": "98040971",
   "metadata": {},
   "outputs": [],
   "source": [
    "# test data에도 적용\n",
    "\n",
    "test_data_c.drop_duplicates(subset = ['document'], inplace=True) # document 열에서 중복인 내용이 있다면 중복 제거\n",
    "test_data_c['document'] = test_data_c['document'].str.replace(\"[^ㄱ-ㅎㅏ-ㅣ가-힣 ]\",\"\", regex=True) # 정규 표현식 수행\n",
    "test_data_c['document'] = test_data_c['document'].str.replace('^ +', \"\", regex=True) # 공백은 empty 값으로 변경\n",
    "test_data_c['document'].replace('', np.nan, inplace=True) # 공백은 Null 값으로 변경\n",
    "test_data_c = test_data_c.dropna(how='any') # Null 값 제거\n",
    "print('테스트용 샘플의 개수 : 50,000에서 ',len(test_data_c),'로 변화함.')"
   ]
  },
  {
   "cell_type": "markdown",
   "id": "619648c1",
   "metadata": {},
   "source": [
    "### 2. 불용어 제거 + tokenizer"
   ]
  },
  {
   "cell_type": "code",
   "execution_count": null,
   "id": "bfc5972b",
   "metadata": {},
   "outputs": [],
   "source": [
    "from konlpy.tag import Mecab\n",
    "stopwords = ['의','가','이','은','들','는','좀','잘','걍','과','도','를','으로','자','에','와','한','하다']\n",
    "tokenizer = Mecab()\n",
    "\n",
    "X_train = []\n",
    "for sentence in train_data_c['document']:\n",
    "    temp_X = tokenizer.morphs(sentence) # 토큰화\n",
    "    temp_X = [word for word in temp_X if not word in stopwords] # 불용어 제거\n",
    "    X_train.append(temp_X)\n"
   ]
  },
  {
   "cell_type": "code",
   "execution_count": null,
   "id": "46a208b5",
   "metadata": {},
   "outputs": [],
   "source": [
    "words = np.concatenate(X_train).tolist()\n"
   ]
  },
  {
   "cell_type": "code",
   "execution_count": null,
   "id": "b72f5acd",
   "metadata": {},
   "outputs": [],
   "source": [
    "from collections import Counter\n",
    "\n",
    "#X_train은 불용어가 제거된 형태소별로 ,로 구분지어 2차원리스트에 담겨져 있다.\n",
    "words = np.concatenate(X_train).tolist()\n",
    "\n",
    "#어떤 형태소별로 개수를 세고 10000~4번까지 나오는 형태소만 추출\n",
    "counter = Counter(words)\n",
    "counter = counter.most_common(10000-4)\n",
    "\n",
    "#처음 세 인덱스는 활용안함.\n",
    "vocab = ['', '', '', ''] + [key for key, _ in counter]\n",
    "word_to_index = {word:index for index, word in enumerate(vocab)}"
   ]
  },
  {
   "cell_type": "code",
   "execution_count": null,
   "id": "a9ed4833",
   "metadata": {},
   "outputs": [],
   "source": [
    "len(word_to_index)"
   ]
  },
  {
   "cell_type": "markdown",
   "id": "9d9b0552",
   "metadata": {},
   "source": [
    "# 위의 연습을 토대로 진짜 시작!\n",
    "\n",
    "## 1) 데이터 준비와 확인\n"
   ]
  },
  {
   "cell_type": "code",
   "execution_count": 6,
   "id": "f6678407",
   "metadata": {},
   "outputs": [],
   "source": [
    "import pandas\n",
    "import konlpy\n",
    "import gensim\n",
    "import numpy as np\n",
    "import re\n",
    "import tensorflow as tf\n",
    "import os"
   ]
  },
  {
   "cell_type": "code",
   "execution_count": 1,
   "id": "b597d454",
   "metadata": {},
   "outputs": [],
   "source": [
    "import pandas as pd\n",
    "\n",
    "# 데이터를 읽어봅시다. \n",
    "train_data = pd.read_table('~/aiffel/workspace/sentimental_classification/data/ratings_train.txt')\n",
    "test_data = pd.read_table('~/aiffel/workspace/sentimental_classification/data/ratings_test.txt')"
   ]
  },
  {
   "cell_type": "markdown",
   "id": "9eb51ab8",
   "metadata": {},
   "source": [
    "## 2) dataloader 구성"
   ]
  },
  {
   "cell_type": "code",
   "execution_count": 2,
   "id": "16064bec",
   "metadata": {},
   "outputs": [],
   "source": [
    "from konlpy.tag import Mecab\n",
    "import numpy as np\n",
    "from collections import Counter\n",
    "\n",
    "tokenizer = Mecab()\n",
    "stopwords = ['의','가','이','은','들','는','좀','잘','걍','과','도','를','으로','자','에','와','한','하다']\n",
    "num_words = 10000\n",
    "\n",
    "def load_data(train_data, test_data, num_words=num_words):\n",
    "    #df내의 중복 + nan샘플 제거 함수\n",
    "    def data_preprocessing(df, columns = 'document'):\n",
    "        df.drop_duplicates(subset = [columns], inplace=True)\n",
    "        df[columns] = df[columns].str.replace(\"[^ㄱ-ㅎㅏ-ㅣ가-힣 ]\",\"\", regex=True)\n",
    "        df[columns] = df[columns].str.replace('^ +', \"\", regex=True) # 공백은 empty 값으로 변경\n",
    "        df[columns].replace('', np.nan, inplace=True) # 공백은 Null 값으로 변경\n",
    "        df= df.dropna(how='any') # Null 값 제거\n",
    "        return df\n",
    "    \n",
    "    train_data = data_preprocessing(train_data)\n",
    "    test_data = data_preprocessing(test_data)\n",
    "    \n",
    "    X_train = []\n",
    "    for sentence in train_data['document']:\n",
    "        temp_X = tokenizer.morphs(sentence) # 토큰화\n",
    "        temp_X = [word for word in temp_X if not word in stopwords] # 불용어 제거\n",
    "        X_train.append(temp_X)\n",
    "\n",
    "    X_test = []\n",
    "    for sentence in test_data['document']:\n",
    "        temp_X = tokenizer.morphs(sentence) # 토큰화\n",
    "        temp_X = [word for word in temp_X if not word in stopwords] # 불용어 제거\n",
    "        X_test.append(temp_X)\n",
    "    \n",
    "    words = np.concatenate(X_train).tolist()\n",
    "    counter = Counter(words)\n",
    "    counter = counter.most_common(10000-4)\n",
    "    vocab = ['', '', '', ''] + [key for key, _ in counter]\n",
    "    word_to_index = {word:index for index, word in enumerate(vocab)}\n",
    "    \n",
    "    def wordlist_to_indexlist(wordlist):\n",
    "        return [word_to_index[word] if word in word_to_index else word_to_index[''] for word in wordlist]\n",
    "        \n",
    "    X_train = list(map(wordlist_to_indexlist, X_train))\n",
    "    X_test = list(map(wordlist_to_indexlist, X_test))\n",
    "        \n",
    "    return X_train, np.array(list(train_data['label'])), X_test, np.array(list(test_data['label'])), word_to_index\n",
    "    \n",
    "    \n",
    "X_train, y_train, X_test, y_test, word_to_index = load_data(train_data, test_data)"
   ]
  },
  {
   "cell_type": "code",
   "execution_count": 3,
   "id": "9de8bf54",
   "metadata": {},
   "outputs": [],
   "source": [
    "word_to_index['<PAD>'] = 0\n",
    "word_to_index['<BOS>'] = 1 # 패딩용 단어\n",
    "word_to_index['<UNK>'] = 2 # 문장의 시작지점\n",
    "word_to_index[\"<UNUSED>\"] = 3"
   ]
  },
  {
   "cell_type": "markdown",
   "id": "09107940",
   "metadata": {},
   "source": [
    "## 3) 모델 구성을 위한 데이터 분석 및 가공"
   ]
  },
  {
   "cell_type": "code",
   "execution_count": 4,
   "id": "2b70161a",
   "metadata": {},
   "outputs": [
    {
     "name": "stdout",
     "output_type": "stream",
     "text": [
      "문장길이 평균 :  13.795479935133466\n",
      "문장길이 최대 :  83\n",
      "문장길이 표준편차 :  11.455691867742807\n",
      "pad_sequences maxlen :  36\n",
      "전체 문장의 0.933630209271796%가 maxlen 설정값 이내에 포함됩니다. \n",
      "pad_sequences maxlen :  48\n",
      "전체 문장의 0.9725398337151535%가 maxlen 설정값 이내에 포함됩니다. \n",
      "pad_sequences maxlen :  59\n",
      "전체 문장의 0.9971942649746455%가 maxlen 설정값 이내에 포함됩니다. \n",
      "pad_sequences maxlen :  71\n",
      "전체 문장의 0.9998661484208088%가 maxlen 설정값 이내에 포함됩니다. \n"
     ]
    }
   ],
   "source": [
    "#pad_sequence로 문장의 길이를 통일시키자!\n",
    "\n",
    "total_data_text = list(X_train) + list(X_test)\n",
    "# 텍스트데이터 문장길이의 리스트를 생성한 후\n",
    "num_tokens = [len(tokens) for tokens in total_data_text]\n",
    "num_tokens = np.array(num_tokens)\n",
    "# 문장길이의 평균값, 최대값, 표준편차를 계산해 본다. \n",
    "print('문장길이 평균 : ', np.mean(num_tokens))\n",
    "print('문장길이 최대 : ', np.max(num_tokens))\n",
    "print('문장길이 표준편차 : ', np.std(num_tokens))\n",
    "\n",
    "# 최대 길이를 (평균 + x*표준편차)의 분포 확인 \n",
    "for i in range(2,6):\n",
    "    max_tokens = np.mean(num_tokens) + i * np.std(num_tokens)\n",
    "    maxlen = int(max_tokens)\n",
    "    print('pad_sequences maxlen : ', maxlen)\n",
    "    print(f'전체 문장의 {np.sum(num_tokens < max_tokens) / len(num_tokens)}%가 maxlen 설정값 이내에 포함됩니다. ')"
   ]
  },
  {
   "cell_type": "markdown",
   "id": "b7026bf8",
   "metadata": {},
   "source": [
    "maxlen = 48사용해보기"
   ]
  },
  {
   "cell_type": "code",
   "execution_count": 7,
   "id": "739a4a93",
   "metadata": {},
   "outputs": [],
   "source": [
    "# 데이터셋 패딩 추가\n",
    "\n",
    "X_train = tf.keras.preprocessing.sequence.pad_sequences(X_train,\n",
    "                                                        value=word_to_index[\"<PAD>\"],\n",
    "                                                        padding='pre', #'post' 혹은 'pre'\n",
    "                                                        maxlen=48)\n",
    "\n",
    "X_test = tf.keras.preprocessing.sequence.pad_sequences(X_test,\n",
    "                                                       value=word_to_index[\"<PAD>\"],\n",
    "                                                       padding='pre', # 'post' 혹은 'pre'\n",
    "                                                       maxlen=48)"
   ]
  },
  {
   "cell_type": "markdown",
   "id": "57e13e4c",
   "metadata": {},
   "source": [
    "## 4) 모델 구성 및 validation set 구성"
   ]
  },
  {
   "cell_type": "code",
   "execution_count": 8,
   "id": "1c89c71d",
   "metadata": {},
   "outputs": [],
   "source": [
    "# val set\n",
    "\n",
    "# validation set 50000건 분리\n",
    "x_val = X_train[:50000]\n",
    "y_val = y_train[:50000]\n",
    "\n",
    "# validation set을 제외한 나머지 \n",
    "partial_x_train = X_train[50000:]\n",
    "partial_y_train = y_train[50000:]\n"
   ]
  },
  {
   "cell_type": "code",
   "execution_count": 9,
   "id": "144efe21",
   "metadata": {},
   "outputs": [],
   "source": [
    "# LSTM\n",
    "vocab_size = 10000  # 어휘 사전의 크기입니다(10개의 단어)\n",
    "word_vector_dim = 100  # 단어 하나를 표현하는 임베딩 벡터의 차원수입니다. \n",
    "\n",
    "lstm = tf.keras.Sequential()\n",
    "lstm.add(tf.keras.layers.Embedding(vocab_size, word_vector_dim, input_shape=(None,)))\n",
    "lstm.add(tf.keras.layers.LSTM(10))   # 가장 널리 쓰이는 RNN인 LSTM 레이어를 사용하였습니다. 이때 LSTM state 벡터의 차원수는 8로 하였습니다. (변경 가능)\n",
    "lstm.add(tf.keras.layers.Dense(10, activation='relu'))\n",
    "lstm.add(tf.keras.layers.Dense(1, activation='sigmoid'))  # 최종 출력은 긍정/부정을 나타내는 1dim 입니다.\n"
   ]
  },
  {
   "cell_type": "code",
   "execution_count": 10,
   "id": "af9ad83c",
   "metadata": {},
   "outputs": [],
   "source": [
    "#conv1d\n",
    "\n",
    "conv = tf.keras.Sequential()\n",
    "conv.add(tf.keras.layers.Embedding(vocab_size, word_vector_dim, input_shape=(None,)))\n",
    "conv.add(tf.keras.layers.Conv1D(32, 7, activation='relu'))\n",
    "conv.add(tf.keras.layers.MaxPooling1D(5))\n",
    "conv.add(tf.keras.layers.Conv1D(32, 7, activation='relu'))\n",
    "conv.add(tf.keras.layers.GlobalMaxPooling1D())\n",
    "conv.add(tf.keras.layers.Dense(16, activation='relu'))\n",
    "conv.add(tf.keras.layers.Dense(4, activation='relu'))\n",
    "conv.add(tf.keras.layers.Dense(1, activation='sigmoid'))  # 최종 출력은 긍정/부정을 나타내는 1dim 입니다."
   ]
  },
  {
   "cell_type": "code",
   "execution_count": 11,
   "id": "6cefa17b",
   "metadata": {},
   "outputs": [],
   "source": [
    "#maxpool\n",
    "\n",
    "maxpool = tf.keras.Sequential()\n",
    "maxpool.add(tf.keras.layers.Embedding(vocab_size, word_vector_dim, input_shape=(None,)))\n",
    "maxpool.add(tf.keras.layers.GlobalMaxPooling1D())\n",
    "maxpool.add(tf.keras.layers.Dense(32, activation='relu'))\n",
    "maxpool.add(tf.keras.layers.Dense(8, activation='relu'))\n",
    "maxpool.add(tf.keras.layers.Dense(1, activation='sigmoid'))  # 최종 출력은 긍정/부정을 나타내는 1dim 입니다."
   ]
  },
  {
   "cell_type": "markdown",
   "id": "dbbd9dce",
   "metadata": {},
   "source": [
    "## 5) 모델 훈련 "
   ]
  },
  {
   "cell_type": "code",
   "execution_count": 12,
   "id": "3acdcae7",
   "metadata": {},
   "outputs": [
    {
     "name": "stdout",
     "output_type": "stream",
     "text": [
      "Epoch 1/20\n",
      "187/187 [==============================] - 5s 9ms/step - loss: 0.4902 - accuracy: 0.7913 - val_loss: 0.3695 - val_accuracy: 0.8406\n",
      "Epoch 2/20\n",
      "187/187 [==============================] - 1s 7ms/step - loss: 0.3436 - accuracy: 0.8548 - val_loss: 0.3551 - val_accuracy: 0.8442\n",
      "Epoch 3/20\n",
      "187/187 [==============================] - 1s 7ms/step - loss: 0.3144 - accuracy: 0.8679 - val_loss: 0.3589 - val_accuracy: 0.8423\n",
      "Epoch 4/20\n",
      "187/187 [==============================] - 1s 7ms/step - loss: 0.2939 - accuracy: 0.8780 - val_loss: 0.3593 - val_accuracy: 0.8441\n",
      "Epoch 5/20\n",
      "187/187 [==============================] - 1s 7ms/step - loss: 0.2739 - accuracy: 0.8868 - val_loss: 0.3654 - val_accuracy: 0.8451\n",
      "Epoch 6/20\n",
      "187/187 [==============================] - 1s 7ms/step - loss: 0.2553 - accuracy: 0.8957 - val_loss: 0.3753 - val_accuracy: 0.8453\n",
      "Epoch 7/20\n",
      "187/187 [==============================] - 1s 7ms/step - loss: 0.2373 - accuracy: 0.9041 - val_loss: 0.3858 - val_accuracy: 0.8452\n",
      "Epoch 8/20\n",
      "187/187 [==============================] - 1s 7ms/step - loss: 0.2219 - accuracy: 0.9114 - val_loss: 0.4006 - val_accuracy: 0.8430\n",
      "Epoch 9/20\n",
      "187/187 [==============================] - 1s 7ms/step - loss: 0.2078 - accuracy: 0.9171 - val_loss: 0.4258 - val_accuracy: 0.8410\n",
      "Epoch 10/20\n",
      "187/187 [==============================] - 1s 7ms/step - loss: 0.1946 - accuracy: 0.9238 - val_loss: 0.4384 - val_accuracy: 0.8400\n",
      "Epoch 11/20\n",
      "187/187 [==============================] - 1s 8ms/step - loss: 0.1809 - accuracy: 0.9301 - val_loss: 0.4522 - val_accuracy: 0.8401\n",
      "Epoch 12/20\n",
      "187/187 [==============================] - 1s 7ms/step - loss: 0.1679 - accuracy: 0.9366 - val_loss: 0.4809 - val_accuracy: 0.8400\n",
      "Epoch 13/20\n",
      "187/187 [==============================] - 1s 7ms/step - loss: 0.1559 - accuracy: 0.9428 - val_loss: 0.4998 - val_accuracy: 0.8357\n",
      "Epoch 14/20\n",
      "187/187 [==============================] - 1s 7ms/step - loss: 0.1456 - accuracy: 0.9474 - val_loss: 0.5392 - val_accuracy: 0.8354\n",
      "Epoch 15/20\n",
      "187/187 [==============================] - 1s 7ms/step - loss: 0.1367 - accuracy: 0.9501 - val_loss: 0.5595 - val_accuracy: 0.8354\n",
      "Epoch 16/20\n",
      "187/187 [==============================] - 1s 7ms/step - loss: 0.1278 - accuracy: 0.9544 - val_loss: 0.5772 - val_accuracy: 0.8306\n",
      "Epoch 17/20\n",
      "187/187 [==============================] - 1s 7ms/step - loss: 0.1234 - accuracy: 0.9565 - val_loss: 0.6079 - val_accuracy: 0.8330\n",
      "Epoch 18/20\n",
      "187/187 [==============================] - 1s 7ms/step - loss: 0.1140 - accuracy: 0.9599 - val_loss: 0.6125 - val_accuracy: 0.8303\n",
      "Epoch 19/20\n",
      "187/187 [==============================] - 1s 8ms/step - loss: 0.1062 - accuracy: 0.9622 - val_loss: 0.6752 - val_accuracy: 0.8293\n",
      "Epoch 20/20\n",
      "187/187 [==============================] - 1s 7ms/step - loss: 0.0966 - accuracy: 0.9660 - val_loss: 0.6959 - val_accuracy: 0.8280\n"
     ]
    }
   ],
   "source": [
    "epochs=20  # 몇 epoch를 훈련하면 좋을지 결과를 보면서 바꿔보기. \n",
    "\n",
    "\n",
    "lstm.compile(optimizer='adam',\n",
    "                loss='binary_crossentropy',\n",
    "                metrics=['accuracy'])\n",
    "\n",
    "historyl = lstm.fit(partial_x_train,\n",
    "                partial_y_train,\n",
    "                epochs=epochs,\n",
    "                batch_size=512,\n",
    "                validation_data=(x_val, y_val),\n",
    "                verbose=1)"
   ]
  },
  {
   "cell_type": "code",
   "execution_count": 13,
   "id": "dd9492dd",
   "metadata": {},
   "outputs": [
    {
     "name": "stdout",
     "output_type": "stream",
     "text": [
      "Epoch 1/20\n",
      "187/187 [==============================] - 4s 9ms/step - loss: 0.5668 - accuracy: 0.6736 - val_loss: 0.4334 - val_accuracy: 0.7902\n",
      "Epoch 2/20\n",
      "187/187 [==============================] - 1s 7ms/step - loss: 0.3991 - accuracy: 0.8130 - val_loss: 0.4174 - val_accuracy: 0.8003\n",
      "Epoch 3/20\n",
      "187/187 [==============================] - 1s 7ms/step - loss: 0.3413 - accuracy: 0.8453 - val_loss: 0.4229 - val_accuracy: 0.8007\n",
      "Epoch 4/20\n",
      "187/187 [==============================] - 1s 7ms/step - loss: 0.2784 - accuracy: 0.8776 - val_loss: 0.4523 - val_accuracy: 0.7981\n",
      "Epoch 5/20\n",
      "187/187 [==============================] - 1s 7ms/step - loss: 0.2153 - accuracy: 0.9089 - val_loss: 0.5175 - val_accuracy: 0.7924\n",
      "Epoch 6/20\n",
      "187/187 [==============================] - 1s 7ms/step - loss: 0.1664 - accuracy: 0.9294 - val_loss: 0.5735 - val_accuracy: 0.7892\n",
      "Epoch 7/20\n",
      "187/187 [==============================] - 1s 7ms/step - loss: 0.1320 - accuracy: 0.9425 - val_loss: 0.6478 - val_accuracy: 0.7815\n",
      "Epoch 8/20\n",
      "187/187 [==============================] - 1s 7ms/step - loss: 0.1101 - accuracy: 0.9506 - val_loss: 0.7203 - val_accuracy: 0.7790\n",
      "Epoch 9/20\n",
      "187/187 [==============================] - 1s 7ms/step - loss: 0.0953 - accuracy: 0.9563 - val_loss: 0.8007 - val_accuracy: 0.7821\n",
      "Epoch 10/20\n",
      "187/187 [==============================] - 1s 7ms/step - loss: 0.0846 - accuracy: 0.9602 - val_loss: 0.8721 - val_accuracy: 0.7766\n",
      "Epoch 11/20\n",
      "187/187 [==============================] - 1s 7ms/step - loss: 0.0775 - accuracy: 0.9632 - val_loss: 0.9431 - val_accuracy: 0.7753\n",
      "Epoch 12/20\n",
      "187/187 [==============================] - 1s 7ms/step - loss: 0.0724 - accuracy: 0.9648 - val_loss: 1.0263 - val_accuracy: 0.7747\n",
      "Epoch 13/20\n",
      "187/187 [==============================] - 1s 7ms/step - loss: 0.0687 - accuracy: 0.9654 - val_loss: 1.0863 - val_accuracy: 0.7732\n",
      "Epoch 14/20\n",
      "187/187 [==============================] - 1s 7ms/step - loss: 0.0663 - accuracy: 0.9664 - val_loss: 1.1470 - val_accuracy: 0.7696\n",
      "Epoch 15/20\n",
      "187/187 [==============================] - 1s 7ms/step - loss: 0.0651 - accuracy: 0.9665 - val_loss: 1.1771 - val_accuracy: 0.7678\n",
      "Epoch 16/20\n",
      "187/187 [==============================] - 1s 7ms/step - loss: 0.0657 - accuracy: 0.9666 - val_loss: 1.2429 - val_accuracy: 0.7720\n",
      "Epoch 17/20\n",
      "187/187 [==============================] - 1s 7ms/step - loss: 0.0659 - accuracy: 0.9665 - val_loss: 1.3068 - val_accuracy: 0.7664\n",
      "Epoch 18/20\n",
      "187/187 [==============================] - 1s 7ms/step - loss: 0.0666 - accuracy: 0.9660 - val_loss: 1.3357 - val_accuracy: 0.7727\n",
      "Epoch 19/20\n",
      "187/187 [==============================] - 1s 7ms/step - loss: 0.0649 - accuracy: 0.9671 - val_loss: 1.3293 - val_accuracy: 0.7739\n",
      "Epoch 20/20\n",
      "187/187 [==============================] - 1s 7ms/step - loss: 0.0622 - accuracy: 0.9678 - val_loss: 1.3589 - val_accuracy: 0.7694\n"
     ]
    }
   ],
   "source": [
    "conv.compile(optimizer='adam',\n",
    "                loss='binary_crossentropy',\n",
    "                metrics=['accuracy'])\n",
    "\n",
    "historyc = conv.fit(partial_x_train,\n",
    "                partial_y_train,\n",
    "                epochs=epochs,\n",
    "                batch_size=512,\n",
    "                validation_data=(x_val, y_val),\n",
    "                verbose=1)"
   ]
  },
  {
   "cell_type": "code",
   "execution_count": 14,
   "id": "d69cc0fc",
   "metadata": {},
   "outputs": [
    {
     "name": "stdout",
     "output_type": "stream",
     "text": [
      "Epoch 1/20\n",
      "187/187 [==============================] - 1s 5ms/step - loss: 0.5067 - accuracy: 0.7695 - val_loss: 0.3622 - val_accuracy: 0.8383\n",
      "Epoch 2/20\n",
      "187/187 [==============================] - 1s 4ms/step - loss: 0.3249 - accuracy: 0.8623 - val_loss: 0.3523 - val_accuracy: 0.8474\n",
      "Epoch 3/20\n",
      "187/187 [==============================] - 1s 4ms/step - loss: 0.2712 - accuracy: 0.8897 - val_loss: 0.3599 - val_accuracy: 0.8466\n",
      "Epoch 4/20\n",
      "187/187 [==============================] - 1s 4ms/step - loss: 0.2253 - accuracy: 0.9122 - val_loss: 0.3866 - val_accuracy: 0.8447\n",
      "Epoch 5/20\n",
      "187/187 [==============================] - 1s 4ms/step - loss: 0.1802 - accuracy: 0.9338 - val_loss: 0.4292 - val_accuracy: 0.8401\n",
      "Epoch 6/20\n",
      "187/187 [==============================] - 1s 5ms/step - loss: 0.1374 - accuracy: 0.9526 - val_loss: 0.4798 - val_accuracy: 0.8368\n",
      "Epoch 7/20\n",
      "187/187 [==============================] - 1s 4ms/step - loss: 0.1003 - accuracy: 0.9676 - val_loss: 0.5495 - val_accuracy: 0.8310\n",
      "Epoch 8/20\n",
      "187/187 [==============================] - 1s 4ms/step - loss: 0.0726 - accuracy: 0.9784 - val_loss: 0.6107 - val_accuracy: 0.8305\n",
      "Epoch 9/20\n",
      "187/187 [==============================] - 1s 4ms/step - loss: 0.0522 - accuracy: 0.9855 - val_loss: 0.6794 - val_accuracy: 0.8268\n",
      "Epoch 10/20\n",
      "187/187 [==============================] - 1s 5ms/step - loss: 0.0379 - accuracy: 0.9898 - val_loss: 0.7502 - val_accuracy: 0.8254\n",
      "Epoch 11/20\n",
      "187/187 [==============================] - 1s 4ms/step - loss: 0.0291 - accuracy: 0.9925 - val_loss: 0.8038 - val_accuracy: 0.8257\n",
      "Epoch 12/20\n",
      "187/187 [==============================] - 1s 4ms/step - loss: 0.0237 - accuracy: 0.9938 - val_loss: 0.8554 - val_accuracy: 0.8223\n",
      "Epoch 13/20\n",
      "187/187 [==============================] - 1s 4ms/step - loss: 0.0202 - accuracy: 0.9945 - val_loss: 0.8879 - val_accuracy: 0.8242\n",
      "Epoch 14/20\n",
      "187/187 [==============================] - 1s 5ms/step - loss: 0.0178 - accuracy: 0.9952 - val_loss: 0.9171 - val_accuracy: 0.8233\n",
      "Epoch 15/20\n",
      "187/187 [==============================] - 1s 5ms/step - loss: 0.0164 - accuracy: 0.9951 - val_loss: 0.9671 - val_accuracy: 0.8207\n",
      "Epoch 16/20\n",
      "187/187 [==============================] - 1s 5ms/step - loss: 0.0150 - accuracy: 0.9955 - val_loss: 0.9819 - val_accuracy: 0.8203\n",
      "Epoch 17/20\n",
      "187/187 [==============================] - 1s 5ms/step - loss: 0.0151 - accuracy: 0.9954 - val_loss: 1.0315 - val_accuracy: 0.8226\n",
      "Epoch 18/20\n",
      "187/187 [==============================] - 1s 4ms/step - loss: 0.0144 - accuracy: 0.9954 - val_loss: 1.0921 - val_accuracy: 0.8180\n",
      "Epoch 19/20\n",
      "187/187 [==============================] - 1s 5ms/step - loss: 0.0153 - accuracy: 0.9948 - val_loss: 1.1285 - val_accuracy: 0.8172\n",
      "Epoch 20/20\n",
      "187/187 [==============================] - 1s 5ms/step - loss: 0.0230 - accuracy: 0.9920 - val_loss: 1.1627 - val_accuracy: 0.8160\n"
     ]
    }
   ],
   "source": [
    "maxpool.compile(optimizer='adam',\n",
    "                loss='binary_crossentropy',\n",
    "                metrics=['accuracy'])\n",
    "\n",
    "historym = maxpool.fit(partial_x_train,\n",
    "                partial_y_train,\n",
    "                epochs=epochs,\n",
    "                batch_size=512,\n",
    "                validation_data=(x_val, y_val),\n",
    "                verbose=1)"
   ]
  },
  {
   "cell_type": "code",
   "execution_count": 15,
   "id": "6b78daab",
   "metadata": {},
   "outputs": [
    {
     "name": "stdout",
     "output_type": "stream",
     "text": [
      "1527/1527 - 3s - loss: 0.6950 - accuracy: 0.8248\n",
      "lstm:  [0.695035994052887, 0.824756383895874]\n",
      "1527/1527 - 3s - loss: 1.3729 - accuracy: 0.7662\n",
      "conv:  [1.3729016780853271, 0.7662327289581299]\n",
      "1527/1527 - 2s - loss: 1.1709 - accuracy: 0.8140\n",
      "maxpool:  [1.1708875894546509, 0.814030110836029]\n"
     ]
    }
   ],
   "source": [
    "#모델 평가\n",
    "\n",
    "results = lstm.evaluate(X_test,y_test, verbose = 2)\n",
    "print('lstm: ', results)\n",
    "\n",
    "results = conv.evaluate(X_test,y_test, verbose = 2)\n",
    "print('conv: ', results)\n",
    "\n",
    "results = maxpool.evaluate(X_test,y_test, verbose = 2)\n",
    "print('maxpool: ', results)"
   ]
  },
  {
   "cell_type": "code",
   "execution_count": 16,
   "id": "907e806f",
   "metadata": {},
   "outputs": [],
   "source": [
    "# fit()을 하면 history변수에 각 에포크 마다의 항목들이 저장되어있다.\n",
    "\n",
    "historyl_dict = historyl.history\n",
    "historyc_dict = historyc.history\n",
    "historym_dict = historym.history"
   ]
  },
  {
   "cell_type": "markdown",
   "id": "ce92cbb5",
   "metadata": {},
   "source": [
    "## 6) 평가지표 그래프 시각화"
   ]
  },
  {
   "cell_type": "code",
   "execution_count": 17,
   "id": "21025cec",
   "metadata": {},
   "outputs": [
    {
     "data": {
      "image/png": "[encoded data removed]",
      "text/plain": [
       "<Figure size 432x288 with 1 Axes>"
      ]
     },
     "metadata": {
      "needs_background": "light"
     },
     "output_type": "display_data"
    }
   ],
   "source": [
    "import matplotlib.pyplot as plt\n",
    "\n",
    "acc = historyl_dict['accuracy']\n",
    "val_acc = historyl_dict['val_accuracy']\n",
    "loss = historyl_dict['loss']\n",
    "val_loss = historyl_dict['val_loss']\n",
    "\n",
    "epochs = range(1, len(acc) + 1)\n",
    "\n",
    "# \"bo\"는 \"파란색 점\"\n",
    "plt.plot(epochs, loss, 'bo', label='Training loss')\n",
    "# b는 \"파란 실선\"\n",
    "plt.plot(epochs, val_loss, 'b', label='Validation loss')\n",
    "plt.title('Training and validation loss')\n",
    "plt.xlabel('Epochs')\n",
    "plt.ylabel('Loss')\n",
    "plt.legend()\n",
    "\n",
    "plt.show()"
   ]
  },
  {
   "cell_type": "code",
   "execution_count": 18,
   "id": "5d4d7b89",
   "metadata": {},
   "outputs": [
    {
     "data": {
      "image/png": "[encoded data removed]",
      "text/plain": [
       "<Figure size 432x288 with 1 Axes>"
      ]
     },
     "metadata": {
      "needs_background": "light"
     },
     "output_type": "display_data"
    }
   ],
   "source": [
    "plt.clf()   # 그림을 초기화\n",
    "\n",
    "plt.plot(epochs, acc, 'bo', label='Training acc')\n",
    "plt.plot(epochs, val_acc, 'b', label='Validation acc')\n",
    "plt.title('Training and validation accuracy')\n",
    "plt.xlabel('Epochs')\n",
    "plt.ylabel('Accuracy')\n",
    "plt.legend()\n",
    "\n",
    "plt.show()"
   ]
  },
  {
   "cell_type": "code",
   "execution_count": 19,
   "id": "ca3b21c0",
   "metadata": {},
   "outputs": [
    {
     "data": {
      "image/png": "[encoded data removed]",
      "text/plain": [
       "<Figure size 432x288 with 1 Axes>"
      ]
     },
     "metadata": {
      "needs_background": "light"
     },
     "output_type": "display_data"
    }
   ],
   "source": [
    "acc = historyc_dict['accuracy']\n",
    "val_acc = historyc_dict['val_accuracy']\n",
    "loss = historyc_dict['loss']\n",
    "val_loss = historyc_dict['val_loss']\n",
    "\n",
    "epochs = range(1, len(acc) + 1)\n",
    "\n",
    "# \"bo\"는 \"파란색 점\"\n",
    "plt.plot(epochs, loss, 'bo', label='Training loss')\n",
    "# b는 \"파란 실선\"\n",
    "plt.plot(epochs, val_loss, 'b', label='Validation loss')\n",
    "plt.title('Training and validation loss')\n",
    "plt.xlabel('Epochs')\n",
    "plt.ylabel('Loss')\n",
    "plt.legend()\n",
    "\n",
    "plt.show()"
   ]
  },
  {
   "cell_type": "code",
   "execution_count": null,
   "id": "603863f1",
   "metadata": {},
   "outputs": [],
   "source": [
    "acc = historyc_dict['accuracy']\n",
    "val_acc = historyc_dict['val_accuracy']\n",
    "loss = historyc_dict['loss']\n",
    "val_loss = historyc_dict['val_loss']\n",
    "\n",
    "epochs = range(1, len(acc) + 1)\n",
    "\n",
    "# \"bo\"는 \"파란색 점\"\n",
    "plt.plot(epochs, loss, 'bo', label='Training loss')\n",
    "# b는 \"파란 실선\"\n",
    "plt.plot(epochs, val_loss, 'b', label='Validation loss')\n",
    "plt.title('Training and validation loss')\n",
    "plt.xlabel('Epochs')\n",
    "plt.ylabel('Loss')\n",
    "plt.legend()\n",
    "\n",
    "plt.show()"
   ]
  },
  {
   "cell_type": "code",
   "execution_count": 20,
   "id": "117c78c9",
   "metadata": {},
   "outputs": [
    {
     "data": {
      "image/png": "[encoded data removed]",
      "text/plain": [
       "<Figure size 432x288 with 1 Axes>"
      ]
     },
     "metadata": {
      "needs_background": "light"
     },
     "output_type": "display_data"
    }
   ],
   "source": [
    "acc = historym_dict['accuracy']\n",
    "val_acc = historym_dict['val_accuracy']\n",
    "loss = historym_dict['loss']\n",
    "val_loss = historym_dict['val_loss']\n",
    "\n",
    "epochs = range(1, len(acc) + 1)\n",
    "\n",
    "# \"bo\"는 \"파란색 점\"\n",
    "plt.plot(epochs, loss, 'bo', label='Training loss')\n",
    "# b는 \"파란 실선\"\n",
    "plt.plot(epochs, val_loss, 'b', label='Validation loss')\n",
    "plt.title('Training and validation loss')\n",
    "plt.xlabel('Epochs')\n",
    "plt.ylabel('Loss')\n",
    "plt.legend()\n",
    "\n",
    "plt.show()"
   ]
  },
  {
   "cell_type": "code",
   "execution_count": 21,
   "id": "e70d9192",
   "metadata": {},
   "outputs": [
    {
     "data": {
      "image/png": "[encoded data removed]",
      "text/plain": [
       "<Figure size 432x288 with 1 Axes>"
      ]
     },
     "metadata": {
      "needs_background": "light"
     },
     "output_type": "display_data"
    }
   ],
   "source": [
    "acc = historym_dict['accuracy']\n",
    "val_acc = historym_dict['val_accuracy']\n",
    "loss = historym_dict['loss']\n",
    "val_loss = historym_dict['val_loss']\n",
    "\n",
    "epochs = range(1, len(acc) + 1)\n",
    "\n",
    "# \"bo\"는 \"파란색 점\"\n",
    "plt.plot(epochs, loss, 'bo', label='Training loss')\n",
    "# b는 \"파란 실선\"\n",
    "plt.plot(epochs, val_loss, 'b', label='Validation loss')\n",
    "plt.title('Training and validation loss')\n",
    "plt.xlabel('Epochs')\n",
    "plt.ylabel('Loss')\n",
    "plt.legend()\n",
    "\n",
    "plt.show()"
   ]
  },
  {
   "cell_type": "markdown",
   "id": "8aa6d4b1",
   "metadata": {},
   "source": [
    "## 7) 학습된 embedding 레이어 분석"
   ]
  },
  {
   "cell_type": "code",
   "execution_count": 32,
   "id": "0c0faf86",
   "metadata": {},
   "outputs": [
    {
     "data": {
      "text/plain": [
       "[('이별', 0.7626414895057678),\n",
       " ('행복', 0.7550068497657776),\n",
       " ('슬픔', 0.7381505966186523),\n",
       " ('유혹', 0.7238055467605591),\n",
       " ('그리움', 0.7167419195175171),\n",
       " ('추억', 0.7143999338150024),\n",
       " ('꿈', 0.7089294195175171),\n",
       " ('애정', 0.7066588997840881),\n",
       " ('포옹', 0.7034594416618347),\n",
       " ('마음', 0.6972615718841553)]"
      ]
     },
     "execution_count": 32,
     "metadata": {},
     "output_type": "execute_result"
    }
   ],
   "source": [
    "from gensim.models.keyedvectors import Word2VecKeyedVectors\n",
    "\n",
    "# ko.model pre-train해보기\n",
    "\n",
    "word2vec_file_path = os.getenv('HOME')+'/data/word2vec_ko.model'\n",
    "word_vectors = Word2VecKeyedVectors.load(word2vec_file_path)\n",
    "vector = word_vectors.wv\n",
    "vector.similar_by_word(\"사랑\")"
   ]
  },
  {
   "cell_type": "code",
   "execution_count": 37,
   "id": "4b13c729",
   "metadata": {},
   "outputs": [],
   "source": [
    "# embedding layer를 바꿔주기\n",
    "index_to_word = {index:word for word, index in word_to_index.items()}\n",
    "embedding_matrix = np.random.rand(vocab_size, word_vector_dim)\n",
    "\n",
    "# embedding_matrix에 Word2Vec 워드 벡터를 단어 하나씩마다 차례차례 카피한다.\n",
    "for i in range(4,vocab_size):\n",
    "    if index_to_word[i] in vector:\n",
    "        embedding_matrix[i] = vector[index_to_word[i]]"
   ]
  },
  {
   "cell_type": "code",
   "execution_count": 38,
   "id": "ef4179ba",
   "metadata": {},
   "outputs": [],
   "source": [
    "from tensorflow.keras.initializers import Constant\n",
    "\n",
    "# 모델 구성\n",
    "\n",
    "#모델1 : conv + globalmaxpool\n",
    "model1 = tf.keras.Sequential()\n",
    "model1.add(tf.keras.layers.Embedding(vocab_size, \n",
    "                                     word_vector_dim, \n",
    "                                     embeddings_initializer=Constant(embedding_matrix),  # 카피한 임베딩을 여기서 활용\n",
    "                                     input_length=48, \n",
    "                                     trainable=True))   # trainable을 True로 주면 Fine-tuning\n",
    "model1.add(tf.keras.layers.Conv1D(16, 7, activation='relu'))\n",
    "model1.add(tf.keras.layers.MaxPooling1D(5))\n",
    "model1.add(tf.keras.layers.Conv1D(16, 7, activation='relu'))\n",
    "model1.add(tf.keras.layers.GlobalMaxPooling1D())\n",
    "model1.add(tf.keras.layers.Dense(8, activation='relu'))\n",
    "model1.add(tf.keras.layers.Dense(1, activation='sigmoid')) \n"
   ]
  },
  {
   "cell_type": "code",
   "execution_count": 39,
   "id": "d656c866",
   "metadata": {},
   "outputs": [],
   "source": [
    "#모델2 : lstm\n",
    "model2 = tf.keras.Sequential()\n",
    "model2.add(tf.keras.layers.Embedding(vocab_size, \n",
    "                                     word_vector_dim, \n",
    "                                     embeddings_initializer=Constant(embedding_matrix),  # 카피한 임베딩을 여기서 활용\n",
    "                                     input_length=48, \n",
    "                                     trainable=True))   # trainable을 True로 주면 Fine-tuning\n",
    "model2.add(tf.keras.layers.LSTM(10))   # 가장 널리 쓰이는 RNN인 LSTM 레이어를 사용하였습니다. 이때 LSTM state 벡터의 차원수는 8로 하였습니다. (변경 가능)\n",
    "model2.add(tf.keras.layers.Dense(10, activation='relu'))\n",
    "model2.add(tf.keras.layers.Dense(1, activation='sigmoid'))  # 최종 출력은 긍정/부정을 나타내는 1dim 입니다.\n"
   ]
  },
  {
   "cell_type": "code",
   "execution_count": 40,
   "id": "421d5cf3",
   "metadata": {},
   "outputs": [
    {
     "name": "stdout",
     "output_type": "stream",
     "text": [
      "Epoch 1/20\n",
      "187/187 [==============================] - 2s 8ms/step - loss: 0.6659 - accuracy: 0.5855 - val_loss: 0.6033 - val_accuracy: 0.6745\n",
      "Epoch 2/20\n",
      "187/187 [==============================] - 1s 6ms/step - loss: 0.5591 - accuracy: 0.7118 - val_loss: 0.5302 - val_accuracy: 0.7308\n",
      "Epoch 3/20\n",
      "187/187 [==============================] - 1s 6ms/step - loss: 0.4939 - accuracy: 0.7580 - val_loss: 0.4986 - val_accuracy: 0.7538\n",
      "Epoch 4/20\n",
      "187/187 [==============================] - 1s 6ms/step - loss: 0.4539 - accuracy: 0.7832 - val_loss: 0.4719 - val_accuracy: 0.7687\n",
      "Epoch 5/20\n",
      "187/187 [==============================] - 1s 6ms/step - loss: 0.4235 - accuracy: 0.8010 - val_loss: 0.4614 - val_accuracy: 0.7750\n",
      "Epoch 6/20\n",
      "187/187 [==============================] - 1s 6ms/step - loss: 0.3982 - accuracy: 0.8146 - val_loss: 0.4519 - val_accuracy: 0.7814\n",
      "Epoch 7/20\n",
      "187/187 [==============================] - 1s 6ms/step - loss: 0.3795 - accuracy: 0.8253 - val_loss: 0.4553 - val_accuracy: 0.7830\n",
      "Epoch 8/20\n",
      "187/187 [==============================] - 1s 6ms/step - loss: 0.3619 - accuracy: 0.8342 - val_loss: 0.4566 - val_accuracy: 0.7824\n",
      "Epoch 9/20\n",
      "187/187 [==============================] - 1s 6ms/step - loss: 0.3451 - accuracy: 0.8431 - val_loss: 0.4672 - val_accuracy: 0.7866\n",
      "Epoch 10/20\n",
      "187/187 [==============================] - 1s 6ms/step - loss: 0.3305 - accuracy: 0.8505 - val_loss: 0.4717 - val_accuracy: 0.7809\n",
      "Epoch 11/20\n",
      "187/187 [==============================] - 1s 6ms/step - loss: 0.3184 - accuracy: 0.8574 - val_loss: 0.4824 - val_accuracy: 0.7815\n",
      "Epoch 12/20\n",
      "187/187 [==============================] - 1s 6ms/step - loss: 0.3040 - accuracy: 0.8649 - val_loss: 0.4806 - val_accuracy: 0.7848\n",
      "Epoch 13/20\n",
      "187/187 [==============================] - 1s 6ms/step - loss: 0.2907 - accuracy: 0.8710 - val_loss: 0.4966 - val_accuracy: 0.7801\n",
      "Epoch 14/20\n",
      "187/187 [==============================] - 1s 6ms/step - loss: 0.2786 - accuracy: 0.8779 - val_loss: 0.5035 - val_accuracy: 0.7807\n",
      "Epoch 15/20\n",
      "187/187 [==============================] - 1s 6ms/step - loss: 0.2673 - accuracy: 0.8835 - val_loss: 0.5262 - val_accuracy: 0.7818\n",
      "Epoch 16/20\n",
      "187/187 [==============================] - 1s 6ms/step - loss: 0.2559 - accuracy: 0.8883 - val_loss: 0.5405 - val_accuracy: 0.7799\n",
      "Epoch 17/20\n",
      "187/187 [==============================] - 1s 6ms/step - loss: 0.2449 - accuracy: 0.8935 - val_loss: 0.5646 - val_accuracy: 0.7785\n",
      "Epoch 18/20\n",
      "187/187 [==============================] - 1s 6ms/step - loss: 0.2352 - accuracy: 0.8976 - val_loss: 0.5777 - val_accuracy: 0.7765\n",
      "Epoch 19/20\n",
      "187/187 [==============================] - 1s 6ms/step - loss: 0.2244 - accuracy: 0.9029 - val_loss: 0.6191 - val_accuracy: 0.7750\n",
      "Epoch 20/20\n",
      "187/187 [==============================] - 1s 6ms/step - loss: 0.2141 - accuracy: 0.9082 - val_loss: 0.6053 - val_accuracy: 0.7745\n",
      "Epoch 1/20\n",
      "187/187 [==============================] - 3s 9ms/step - loss: 0.5788 - accuracy: 0.6865 - val_loss: 0.4706 - val_accuracy: 0.7796\n",
      "Epoch 2/20\n",
      "187/187 [==============================] - 1s 7ms/step - loss: 0.4297 - accuracy: 0.8040 - val_loss: 0.4084 - val_accuracy: 0.8155\n",
      "Epoch 3/20\n",
      "187/187 [==============================] - 1s 7ms/step - loss: 0.3753 - accuracy: 0.8358 - val_loss: 0.3809 - val_accuracy: 0.8306\n",
      "Epoch 4/20\n",
      "187/187 [==============================] - 1s 8ms/step - loss: 0.3451 - accuracy: 0.8512 - val_loss: 0.3712 - val_accuracy: 0.8354\n",
      "Epoch 5/20\n",
      "187/187 [==============================] - 2s 8ms/step - loss: 0.3237 - accuracy: 0.8615 - val_loss: 0.3728 - val_accuracy: 0.8368\n",
      "Epoch 6/20\n",
      "187/187 [==============================] - 2s 9ms/step - loss: 0.3086 - accuracy: 0.8695 - val_loss: 0.3684 - val_accuracy: 0.8410\n",
      "Epoch 7/20\n",
      "187/187 [==============================] - 1s 8ms/step - loss: 0.2953 - accuracy: 0.8772 - val_loss: 0.3658 - val_accuracy: 0.8426\n",
      "Epoch 8/20\n",
      "187/187 [==============================] - 1s 8ms/step - loss: 0.2832 - accuracy: 0.8831 - val_loss: 0.3698 - val_accuracy: 0.8417\n",
      "Epoch 9/20\n",
      "187/187 [==============================] - 1s 8ms/step - loss: 0.2739 - accuracy: 0.8873 - val_loss: 0.3736 - val_accuracy: 0.8421\n",
      "Epoch 10/20\n",
      "187/187 [==============================] - 1s 7ms/step - loss: 0.2649 - accuracy: 0.8922 - val_loss: 0.3790 - val_accuracy: 0.8415\n",
      "Epoch 11/20\n",
      "187/187 [==============================] - 1s 7ms/step - loss: 0.2553 - accuracy: 0.8966 - val_loss: 0.3797 - val_accuracy: 0.8423\n",
      "Epoch 12/20\n",
      "187/187 [==============================] - 1s 8ms/step - loss: 0.2470 - accuracy: 0.9004 - val_loss: 0.3846 - val_accuracy: 0.8419\n",
      "Epoch 13/20\n",
      "187/187 [==============================] - 1s 8ms/step - loss: 0.2391 - accuracy: 0.9048 - val_loss: 0.3896 - val_accuracy: 0.8433\n",
      "Epoch 14/20\n",
      "187/187 [==============================] - 1s 8ms/step - loss: 0.2311 - accuracy: 0.9087 - val_loss: 0.3980 - val_accuracy: 0.8422\n",
      "Epoch 15/20\n",
      "187/187 [==============================] - 1s 7ms/step - loss: 0.2237 - accuracy: 0.9126 - val_loss: 0.4035 - val_accuracy: 0.8415\n",
      "Epoch 16/20\n",
      "187/187 [==============================] - 1s 7ms/step - loss: 0.2172 - accuracy: 0.9153 - val_loss: 0.4096 - val_accuracy: 0.8413\n",
      "Epoch 17/20\n",
      "187/187 [==============================] - 1s 7ms/step - loss: 0.2109 - accuracy: 0.9183 - val_loss: 0.4195 - val_accuracy: 0.8406\n",
      "Epoch 18/20\n",
      "187/187 [==============================] - 1s 7ms/step - loss: 0.2040 - accuracy: 0.9214 - val_loss: 0.4312 - val_accuracy: 0.8394\n",
      "Epoch 19/20\n",
      "187/187 [==============================] - 1s 7ms/step - loss: 0.1964 - accuracy: 0.9257 - val_loss: 0.4385 - val_accuracy: 0.8401\n",
      "Epoch 20/20\n",
      "187/187 [==============================] - 1s 8ms/step - loss: 0.1904 - accuracy: 0.9279 - val_loss: 0.4395 - val_accuracy: 0.8373\n"
     ]
    }
   ],
   "source": [
    "model1.compile(optimizer='adam',\n",
    "              loss='binary_crossentropy',\n",
    "              metrics=['accuracy'])\n",
    "\n",
    "model2.compile(optimizer='adam',\n",
    "              loss='binary_crossentropy',\n",
    "              metrics=['accuracy'])\n",
    "\n",
    "epochs=20  # 몇 epoch를 훈련하면 좋을지 결과를 보면서 바꾸어 봅시다.\n",
    "history1 = model1.fit(partial_x_train,\n",
    "                    partial_y_train,\n",
    "                    epochs=epochs,\n",
    "                    batch_size=512,\n",
    "                    validation_data=(x_val, y_val),\n",
    "                    verbose=1)\n",
    "\n",
    "print('-------------')\n",
    "\n",
    "history2 = model2.fit(partial_x_train,\n",
    "                    partial_y_train,\n",
    "                    epochs=epochs,\n",
    "                    batch_size=512,\n",
    "                    validation_data=(x_val, y_val),\n",
    "                    verbose=1)"
   ]
  },
  {
   "cell_type": "code",
   "execution_count": 42,
   "id": "e26f58d5",
   "metadata": {},
   "outputs": [
    {
     "name": "stdout",
     "output_type": "stream",
     "text": [
      "1527/1527 - 3s - loss: 0.6236 - accuracy: 0.7720\n",
      "1527/1527 - 3s - loss: 0.4510 - accuracy: 0.8324\n",
      "[0.6236186623573303, 0.7719643115997314]\n",
      "[0.4510156214237213, 0.8323917388916016]\n"
     ]
    }
   ],
   "source": [
    "results1 = model1.evaluate(X_test,  y_test, verbose=2)\n",
    "results2 = model2.evaluate(X_test,  y_test, verbose=2)\n",
    "\n",
    "print(results1)\n",
    "print(results2)"
   ]
  },
  {
   "cell_type": "markdown",
   "id": "8739f92d",
   "metadata": {},
   "source": [
    "## 성능 개선 그래프 시각화"
   ]
  },
  {
   "cell_type": "code",
   "execution_count": 44,
   "id": "b728e6d6",
   "metadata": {},
   "outputs": [
    {
     "data": {
      "image/png": "[encoded data removed]",
      "text/plain": [
       "<Figure size 864x432 with 2 Axes>"
      ]
     },
     "metadata": {
      "needs_background": "light"
     },
     "output_type": "display_data"
    },
    {
     "data": {
      "image/png": "[encoded data removed]",
      "text/plain": [
       "<Figure size 864x432 with 2 Axes>"
      ]
     },
     "metadata": {
      "needs_background": "light"
     },
     "output_type": "display_data"
    }
   ],
   "source": [
    "# 서브플롯을 사용하여 그래프 그리기\n",
    "import matplotlib.pyplot as plt\n",
    "\n",
    "# 훈련 손실 그래프\n",
    "plt.figure(figsize=(12, 6))\n",
    "plt.subplot(1, 2, 1)\n",
    "plt.plot(history1.history['loss'], 'r', label='model1 training loss')\n",
    "plt.plot(history2.history['loss'], 'g', label='model2 training loss')\n",
    "plt.title('Training Loss')\n",
    "plt.xlabel('Epochs')\n",
    "plt.ylabel('Loss')\n",
    "plt.legend()\n",
    "plt.ylim(0.0, 1.0)\n",
    "\n",
    "# 검증 손실 그래프\n",
    "plt.subplot(1, 2, 2)\n",
    "plt.plot(history1.history['val_loss'], 'r', label='model1 validation loss')\n",
    "plt.plot(history2.history['val_loss'], 'g', label='model2 validation loss')\n",
    "plt.title('Validation Loss')\n",
    "plt.xlabel('Epochs')\n",
    "plt.ylabel('Loss')\n",
    "plt.legend()\n",
    "plt.ylim(0.0, 1.0)\n",
    "\n",
    "plt.tight_layout()\n",
    "plt.show()\n",
    "\n",
    "# 훈련 정확도 그래프\n",
    "plt.figure(figsize=(12, 6))\n",
    "plt.subplot(1, 2, 1)\n",
    "plt.plot(history1.history['accuracy'], 'r', label='model1 training accuracy')\n",
    "plt.plot(history2.history['accuracy'], 'g', label='model2 training accuracy')\n",
    "plt.title('Training Accuracy')\n",
    "plt.xlabel('Epochs')\n",
    "plt.ylabel('Accuracy')\n",
    "plt.legend()\n",
    "plt.ylim(0.7, 1.0)\n",
    "\n",
    "# 검증 정확도 그래프\n",
    "plt.subplot(1, 2, 2)\n",
    "plt.plot(history1.history['val_accuracy'], 'r', label='model1 validation accuracy')\n",
    "plt.plot(history2.history['val_accuracy'], 'g', label='model2 validation accuracy')\n",
    "plt.title('Validation Accuracy')\n",
    "plt.xlabel('Epochs')\n",
    "plt.ylabel('Accuracy')\n",
    "plt.legend()\n",
    "plt.ylim(0.7, 1.0)\n",
    "\n",
    "plt.tight_layout()\n",
    "plt.show()"
   ]
  },
  {
   "cell_type": "markdown",
   "id": "d0d80d47",
   "metadata": {},
   "source": [
    "## 회고하기\n",
    "\n",
    "1. 과적합을 방지할 만한 여러가지 기법을 사용해보면 좋을 것 같다.(어떤 방식으로 해야하는 지 모름.)\n",
    "2. earlystopping을 통해 여러번의 에포크를 실험하기 보다 한 번에 확인하는 것이 필요할 것 같다.\n",
    "3. train / val / test의 데이터의 분포를 잘 파악하여 나누는 방법에 대해 생각해 볼 필요가 있는 것 같다."
   ]
  }
 ],
 "metadata": {
  "kernelspec": {
   "display_name": "Python 3 (ipykernel)",
   "language": "python",
   "name": "python3"
  },
  "language_info": {
   "codemirror_mode": {
    "name": "ipython",
    "version": 3
   },
   "file_extension": ".py",
   "mimetype": "text/x-python",
   "name": "python",
   "nbconvert_exporter": "python",
   "pygments_lexer": "ipython3",
   "version": "3.9.7"
  }
 },
 "nbformat": 4,
 "nbformat_minor": 5
}
