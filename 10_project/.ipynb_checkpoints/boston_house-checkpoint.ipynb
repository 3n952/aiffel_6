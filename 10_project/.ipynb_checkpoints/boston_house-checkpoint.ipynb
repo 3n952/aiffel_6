{
 "cells": [
  {
   "cell_type": "code",
   "execution_count": 1,
   "id": "71144f2d",
   "metadata": {},
   "outputs": [
    {
     "name": "stdout",
     "output_type": "stream",
     "text": [
      "404\n",
      "102\n"
     ]
    }
   ],
   "source": [
    "from tensorflow.keras import models, layers\n",
    "import matplotlib.pyplot as plt\n",
    "from tensorflow import keras\n",
    "\n",
    "# keras.datasets 안에 boston_housing 데이터셋을 로드합니다.\n",
    "from keras.datasets import boston_housing\n",
    "\n",
    "(train_data, train_labels), (test_data, test_labels) = boston_housing.load_data()\n",
    "\n",
    "# 데이터셋의 크기를 확인합니다.\n",
    "print(len(train_data))\n",
    "print(len(test_data))"
   ]
  },
  {
   "cell_type": "code",
   "execution_count": 2,
   "id": "9663515f",
   "metadata": {},
   "outputs": [],
   "source": [
    "# 문제 1-1: 데이터셋의 전처리를 위해 표준화 작업을 수행합니다.\n",
    "# 먼저 입력 데이터의 각 특성의 평균을 뺍니다.\n",
    "# [[YOUR CODE]]\n",
    "m = train_data.mean(axis = 0)\n",
    "train_data = train_data - m\n",
    "\n",
    "# 평균을 뺀 입력 데이터에서 표준편차를 나눕니다.\n",
    "# 데이터 특성의 중앙이 0에 가깝게 만들고, 표준편차가 1이 되게 만듭니다.\n",
    "# [[YOUR CODE]]\n",
    "std = train_data.std(axis=0)\n",
    "train_data = train_data / std\n",
    "\n",
    "# 테스트 데이터셋도 마찬가지로 평균을 빼고, 표준편차로 나눕니다.\n",
    "# [[YOUR CODE]]\n",
    "test_data = test_data - m\n",
    "test_data = test_data / std"
   ]
  },
  {
   "cell_type": "code",
   "execution_count": 3,
   "id": "f2ff13b3",
   "metadata": {},
   "outputs": [
    {
     "data": {
      "text/plain": [
       "(404, 13)"
      ]
     },
     "execution_count": 3,
     "metadata": {},
     "output_type": "execute_result"
    }
   ],
   "source": [
    "train_data.shape"
   ]
  },
  {
   "cell_type": "code",
   "execution_count": 4,
   "id": "5d7a019c",
   "metadata": {},
   "outputs": [
    {
     "data": {
      "text/plain": [
       "(404,)"
      ]
     },
     "execution_count": 4,
     "metadata": {},
     "output_type": "execute_result"
    }
   ],
   "source": [
    "train_labels.shape"
   ]
  },
  {
   "cell_type": "code",
   "execution_count": 5,
   "id": "ae3b79b7",
   "metadata": {},
   "outputs": [
    {
     "name": "stdout",
     "output_type": "stream",
     "text": [
      "Model: \"sequential\"\n",
      "_________________________________________________________________\n",
      "Layer (type)                 Output Shape              Param #   \n",
      "=================================================================\n",
      "dense (Dense)                (None, 13)                182       \n",
      "_________________________________________________________________\n",
      "dense_1 (Dense)              (None, 64)                896       \n",
      "_________________________________________________________________\n",
      "dense_2 (Dense)              (None, 64)                4160      \n",
      "_________________________________________________________________\n",
      "dense_3 (Dense)              (None, 1)                 65        \n",
      "=================================================================\n",
      "Total params: 5,303\n",
      "Trainable params: 5,303\n",
      "Non-trainable params: 0\n",
      "_________________________________________________________________\n"
     ]
    }
   ],
   "source": [
    "# 문제 1-2: 주택 가격 예측을 위한 딥러닝 모델 구성 및 컴파일합니다.\n",
    "# input_shape은 (train_data.shape[1], )으로 구성합니다.\n",
    "# 회귀(예측)을 위한 모델이므로 loss를 mse, metrics를 mae로 사용합니다.\n",
    "# [[YOUR CODE]]\n",
    "\n",
    "model = keras.Sequential()\n",
    "model.add(layers.Dense(13, activation='linear', input_shape=(train_data.shape[1],)))\n",
    "model.add(layers.Dense(64, activation = 'linear'))\n",
    "model.add(layers.Dense(64, activation = 'linear'))\n",
    "model.add(layers.Dense(1, activation = 'linear'))\n",
    "\n",
    "\n",
    "model.summary()"
   ]
  },
  {
   "cell_type": "code",
   "execution_count": 6,
   "id": "678cfda5",
   "metadata": {},
   "outputs": [
    {
     "name": "stdout",
     "output_type": "stream",
     "text": [
      "Epoch 1/100\n",
      "11/11 [==============================] - 1s 15ms/step - loss: 551.1081 - mae: 22.0109 - val_loss: 595.3923 - val_mae: 23.1101\n",
      "Epoch 2/100\n",
      "11/11 [==============================] - 0s 4ms/step - loss: 526.7158 - mae: 21.7984 - val_loss: 567.0840 - val_mae: 22.7143\n",
      "Epoch 3/100\n",
      "11/11 [==============================] - 0s 4ms/step - loss: 504.5169 - mae: 21.4208 - val_loss: 545.0900 - val_mae: 22.3468\n",
      "Epoch 4/100\n",
      "11/11 [==============================] - 0s 4ms/step - loss: 477.9757 - mae: 20.9268 - val_loss: 507.5976 - val_mae: 21.6859\n",
      "Epoch 5/100\n",
      "11/11 [==============================] - 0s 4ms/step - loss: 442.6839 - mae: 20.1570 - val_loss: 465.9767 - val_mae: 20.8408\n",
      "Epoch 6/100\n",
      "11/11 [==============================] - 0s 4ms/step - loss: 397.6532 - mae: 19.0292 - val_loss: 413.0446 - val_mae: 19.4613\n",
      "Epoch 7/100\n",
      "11/11 [==============================] - 0s 4ms/step - loss: 347.7021 - mae: 17.5746 - val_loss: 357.1443 - val_mae: 17.8394\n",
      "Epoch 8/100\n",
      "11/11 [==============================] - 0s 4ms/step - loss: 289.1869 - mae: 15.6784 - val_loss: 291.8063 - val_mae: 15.7881\n",
      "Epoch 9/100\n",
      "11/11 [==============================] - 0s 4ms/step - loss: 220.5765 - mae: 13.2736 - val_loss: 216.9144 - val_mae: 13.2467\n",
      "Epoch 10/100\n",
      "11/11 [==============================] - 0s 4ms/step - loss: 148.5323 - mae: 10.3708 - val_loss: 144.2034 - val_mae: 10.2772\n",
      "Epoch 11/100\n",
      "11/11 [==============================] - 0s 4ms/step - loss: 89.2444 - mae: 7.4071 - val_loss: 85.4951 - val_mae: 7.2197\n",
      "Epoch 12/100\n",
      "11/11 [==============================] - 0s 4ms/step - loss: 51.9956 - mae: 5.4411 - val_loss: 54.5178 - val_mae: 5.3713\n",
      "Epoch 13/100\n",
      "11/11 [==============================] - 0s 4ms/step - loss: 36.7459 - mae: 4.5682 - val_loss: 40.6807 - val_mae: 4.6944\n",
      "Epoch 14/100\n",
      "11/11 [==============================] - 0s 4ms/step - loss: 34.6483 - mae: 4.5335 - val_loss: 34.5843 - val_mae: 4.2904\n",
      "Epoch 15/100\n",
      "11/11 [==============================] - 0s 4ms/step - loss: 28.0884 - mae: 3.9285 - val_loss: 31.3966 - val_mae: 3.9590\n",
      "Epoch 16/100\n",
      "11/11 [==============================] - 0s 4ms/step - loss: 25.6161 - mae: 3.7093 - val_loss: 28.5476 - val_mae: 3.7807\n",
      "Epoch 17/100\n",
      "11/11 [==============================] - 0s 4ms/step - loss: 25.0762 - mae: 3.5708 - val_loss: 28.3131 - val_mae: 3.7626\n",
      "Epoch 18/100\n",
      "11/11 [==============================] - 0s 4ms/step - loss: 23.8017 - mae: 3.4744 - val_loss: 25.1465 - val_mae: 3.5528\n",
      "Epoch 19/100\n",
      "11/11 [==============================] - 0s 4ms/step - loss: 23.3068 - mae: 3.4917 - val_loss: 25.5509 - val_mae: 3.5869\n",
      "Epoch 20/100\n",
      "11/11 [==============================] - 0s 4ms/step - loss: 23.1579 - mae: 3.4390 - val_loss: 24.1706 - val_mae: 3.4859\n",
      "Epoch 21/100\n",
      "11/11 [==============================] - 0s 4ms/step - loss: 23.1884 - mae: 3.4986 - val_loss: 24.3464 - val_mae: 3.5067\n",
      "Epoch 22/100\n",
      "11/11 [==============================] - 0s 4ms/step - loss: 23.0547 - mae: 3.4139 - val_loss: 24.1655 - val_mae: 3.4731\n",
      "Epoch 23/100\n",
      "11/11 [==============================] - 0s 4ms/step - loss: 23.5016 - mae: 3.4816 - val_loss: 24.8463 - val_mae: 3.4888\n",
      "Epoch 24/100\n",
      "11/11 [==============================] - 0s 4ms/step - loss: 22.8715 - mae: 3.3226 - val_loss: 24.1725 - val_mae: 3.4738\n",
      "Epoch 25/100\n",
      "11/11 [==============================] - 0s 4ms/step - loss: 22.7670 - mae: 3.3817 - val_loss: 24.3643 - val_mae: 3.5107\n",
      "Epoch 26/100\n",
      "11/11 [==============================] - 0s 4ms/step - loss: 23.5348 - mae: 3.3633 - val_loss: 23.4356 - val_mae: 3.4357\n",
      "Epoch 27/100\n",
      "11/11 [==============================] - 0s 4ms/step - loss: 23.0731 - mae: 3.3534 - val_loss: 24.8938 - val_mae: 3.5258\n",
      "Epoch 28/100\n",
      "11/11 [==============================] - 0s 4ms/step - loss: 23.6110 - mae: 3.4221 - val_loss: 21.7287 - val_mae: 3.3306\n",
      "Epoch 29/100\n",
      "11/11 [==============================] - 0s 4ms/step - loss: 23.6769 - mae: 3.5829 - val_loss: 23.7218 - val_mae: 3.4439\n",
      "Epoch 30/100\n",
      "11/11 [==============================] - 0s 4ms/step - loss: 23.5138 - mae: 3.3560 - val_loss: 22.8935 - val_mae: 3.3426\n",
      "Epoch 31/100\n",
      "11/11 [==============================] - 0s 4ms/step - loss: 23.3552 - mae: 3.4335 - val_loss: 23.9332 - val_mae: 3.4120\n",
      "Epoch 32/100\n",
      "11/11 [==============================] - 0s 4ms/step - loss: 23.7430 - mae: 3.3382 - val_loss: 22.6287 - val_mae: 3.3423\n",
      "Epoch 33/100\n",
      "11/11 [==============================] - 0s 4ms/step - loss: 22.5210 - mae: 3.3491 - val_loss: 22.6122 - val_mae: 3.3439\n",
      "Epoch 34/100\n",
      "11/11 [==============================] - 0s 4ms/step - loss: 22.6729 - mae: 3.3127 - val_loss: 23.5259 - val_mae: 3.3777\n",
      "Epoch 35/100\n",
      "11/11 [==============================] - 0s 4ms/step - loss: 23.0380 - mae: 3.4349 - val_loss: 22.8892 - val_mae: 3.3742\n",
      "Epoch 36/100\n",
      "11/11 [==============================] - 0s 4ms/step - loss: 22.8397 - mae: 3.4199 - val_loss: 23.9136 - val_mae: 3.4347\n",
      "Epoch 37/100\n",
      "11/11 [==============================] - 0s 4ms/step - loss: 22.9611 - mae: 3.3006 - val_loss: 23.0744 - val_mae: 3.3437\n",
      "Epoch 38/100\n",
      "11/11 [==============================] - 0s 4ms/step - loss: 22.6081 - mae: 3.3525 - val_loss: 23.3270 - val_mae: 3.4022\n",
      "Epoch 39/100\n",
      "11/11 [==============================] - 0s 4ms/step - loss: 22.3504 - mae: 3.3294 - val_loss: 22.5320 - val_mae: 3.3270\n",
      "Epoch 40/100\n",
      "11/11 [==============================] - 0s 4ms/step - loss: 22.5701 - mae: 3.3769 - val_loss: 23.0493 - val_mae: 3.4035\n",
      "Epoch 41/100\n",
      "11/11 [==============================] - 0s 4ms/step - loss: 22.5256 - mae: 3.2894 - val_loss: 22.9361 - val_mae: 3.3617\n",
      "Epoch 42/100\n",
      "11/11 [==============================] - 0s 4ms/step - loss: 23.4271 - mae: 3.4580 - val_loss: 24.5446 - val_mae: 3.5045\n",
      "Epoch 43/100\n",
      "11/11 [==============================] - 0s 4ms/step - loss: 23.0613 - mae: 3.4170 - val_loss: 22.3810 - val_mae: 3.3205\n",
      "Epoch 44/100\n",
      "11/11 [==============================] - 0s 4ms/step - loss: 23.6608 - mae: 3.4993 - val_loss: 24.6097 - val_mae: 3.4789\n",
      "Epoch 45/100\n",
      "11/11 [==============================] - 0s 4ms/step - loss: 22.9539 - mae: 3.2936 - val_loss: 22.5301 - val_mae: 3.3268\n",
      "Epoch 46/100\n",
      "11/11 [==============================] - 0s 4ms/step - loss: 23.1972 - mae: 3.3941 - val_loss: 25.2906 - val_mae: 3.5141\n",
      "Epoch 47/100\n",
      "11/11 [==============================] - 0s 4ms/step - loss: 22.5814 - mae: 3.3509 - val_loss: 22.2531 - val_mae: 3.3034\n",
      "Epoch 48/100\n",
      "11/11 [==============================] - 0s 4ms/step - loss: 23.0116 - mae: 3.4700 - val_loss: 24.2361 - val_mae: 3.4706\n",
      "Epoch 49/100\n",
      "11/11 [==============================] - 0s 4ms/step - loss: 22.6278 - mae: 3.3508 - val_loss: 22.4604 - val_mae: 3.3185\n",
      "Epoch 50/100\n",
      "11/11 [==============================] - 0s 4ms/step - loss: 22.8395 - mae: 3.4172 - val_loss: 24.8566 - val_mae: 3.5265\n",
      "Epoch 51/100\n",
      "11/11 [==============================] - 0s 4ms/step - loss: 23.3637 - mae: 3.3628 - val_loss: 22.2527 - val_mae: 3.3194\n",
      "Epoch 52/100\n",
      "11/11 [==============================] - 0s 4ms/step - loss: 23.0179 - mae: 3.4222 - val_loss: 24.8222 - val_mae: 3.5425\n",
      "Epoch 53/100\n",
      "11/11 [==============================] - 0s 4ms/step - loss: 23.7473 - mae: 3.3934 - val_loss: 22.9352 - val_mae: 3.2851\n",
      "Epoch 54/100\n",
      "11/11 [==============================] - 0s 4ms/step - loss: 23.6811 - mae: 3.4114 - val_loss: 25.4184 - val_mae: 3.5343\n",
      "Epoch 55/100\n",
      "11/11 [==============================] - 0s 4ms/step - loss: 22.8932 - mae: 3.2957 - val_loss: 22.5045 - val_mae: 3.3624\n",
      "Epoch 56/100\n",
      "11/11 [==============================] - 0s 4ms/step - loss: 22.5038 - mae: 3.2641 - val_loss: 23.2840 - val_mae: 3.3863\n",
      "Epoch 57/100\n",
      "11/11 [==============================] - 0s 4ms/step - loss: 22.9088 - mae: 3.3617 - val_loss: 23.6642 - val_mae: 3.4232\n",
      "Epoch 58/100\n",
      "11/11 [==============================] - 0s 4ms/step - loss: 23.7289 - mae: 3.4444 - val_loss: 21.9189 - val_mae: 3.2396\n",
      "Epoch 59/100\n",
      "11/11 [==============================] - 0s 4ms/step - loss: 24.8032 - mae: 3.5822 - val_loss: 26.1169 - val_mae: 3.5998\n",
      "Epoch 60/100\n",
      "11/11 [==============================] - 0s 4ms/step - loss: 25.9464 - mae: 3.6293 - val_loss: 20.2413 - val_mae: 3.2056\n",
      "Epoch 61/100\n",
      "11/11 [==============================] - 0s 4ms/step - loss: 26.0189 - mae: 3.8026 - val_loss: 26.4500 - val_mae: 3.6445\n"
     ]
    },
    {
     "name": "stdout",
     "output_type": "stream",
     "text": [
      "Epoch 62/100\n",
      "11/11 [==============================] - 0s 4ms/step - loss: 23.5980 - mae: 3.4169 - val_loss: 23.0046 - val_mae: 3.3112\n",
      "Epoch 63/100\n",
      "11/11 [==============================] - 0s 4ms/step - loss: 23.0708 - mae: 3.3697 - val_loss: 23.2312 - val_mae: 3.3414\n",
      "Epoch 64/100\n",
      "11/11 [==============================] - 0s 4ms/step - loss: 22.8831 - mae: 3.4059 - val_loss: 22.1213 - val_mae: 3.3107\n",
      "Epoch 65/100\n",
      "11/11 [==============================] - 0s 4ms/step - loss: 23.6337 - mae: 3.5198 - val_loss: 23.9265 - val_mae: 3.5025\n",
      "Epoch 66/100\n",
      "11/11 [==============================] - 0s 4ms/step - loss: 23.0696 - mae: 3.2847 - val_loss: 22.5171 - val_mae: 3.3196\n",
      "Epoch 67/100\n",
      "11/11 [==============================] - 0s 4ms/step - loss: 23.5419 - mae: 3.4675 - val_loss: 23.8760 - val_mae: 3.4822\n",
      "Epoch 68/100\n",
      "11/11 [==============================] - 0s 4ms/step - loss: 23.1278 - mae: 3.3305 - val_loss: 22.2363 - val_mae: 3.2752\n",
      "Epoch 69/100\n",
      "11/11 [==============================] - 0s 4ms/step - loss: 23.2746 - mae: 3.4271 - val_loss: 26.1763 - val_mae: 3.5476\n",
      "Epoch 70/100\n",
      "11/11 [==============================] - 0s 4ms/step - loss: 23.6327 - mae: 3.3985 - val_loss: 22.3340 - val_mae: 3.2820\n",
      "Epoch 71/100\n",
      "11/11 [==============================] - 0s 4ms/step - loss: 22.6121 - mae: 3.3823 - val_loss: 24.7619 - val_mae: 3.5538\n",
      "Epoch 72/100\n",
      "11/11 [==============================] - 0s 4ms/step - loss: 24.4936 - mae: 3.3854 - val_loss: 23.4900 - val_mae: 3.3702\n",
      "Epoch 73/100\n",
      "11/11 [==============================] - 0s 4ms/step - loss: 24.3145 - mae: 3.4786 - val_loss: 22.8680 - val_mae: 3.4326\n",
      "Epoch 74/100\n",
      "11/11 [==============================] - 0s 5ms/step - loss: 23.3916 - mae: 3.5452 - val_loss: 24.9606 - val_mae: 3.6063\n",
      "Epoch 75/100\n",
      "11/11 [==============================] - 0s 4ms/step - loss: 24.2573 - mae: 3.5443 - val_loss: 22.8382 - val_mae: 3.3585\n",
      "Epoch 76/100\n",
      "11/11 [==============================] - 0s 4ms/step - loss: 22.5865 - mae: 3.3235 - val_loss: 23.4085 - val_mae: 3.3626\n",
      "Epoch 77/100\n",
      "11/11 [==============================] - 0s 4ms/step - loss: 22.7392 - mae: 3.2609 - val_loss: 22.7224 - val_mae: 3.3550\n",
      "Epoch 78/100\n",
      "11/11 [==============================] - 0s 4ms/step - loss: 22.7123 - mae: 3.2717 - val_loss: 22.3978 - val_mae: 3.3468\n",
      "Epoch 79/100\n",
      "11/11 [==============================] - 0s 4ms/step - loss: 22.5881 - mae: 3.2602 - val_loss: 23.1004 - val_mae: 3.4072\n",
      "Epoch 80/100\n",
      "11/11 [==============================] - 0s 4ms/step - loss: 22.5088 - mae: 3.3147 - val_loss: 21.9942 - val_mae: 3.3022\n",
      "Epoch 81/100\n",
      "11/11 [==============================] - 0s 4ms/step - loss: 22.3487 - mae: 3.3070 - val_loss: 23.3775 - val_mae: 3.3729\n",
      "Epoch 82/100\n",
      "11/11 [==============================] - 0s 4ms/step - loss: 22.4713 - mae: 3.2964 - val_loss: 24.1052 - val_mae: 3.4306\n",
      "Epoch 83/100\n",
      "11/11 [==============================] - 0s 4ms/step - loss: 23.6858 - mae: 3.3696 - val_loss: 22.3961 - val_mae: 3.2652\n",
      "Epoch 84/100\n",
      "11/11 [==============================] - 0s 4ms/step - loss: 22.9345 - mae: 3.3717 - val_loss: 23.5834 - val_mae: 3.3938\n",
      "Epoch 85/100\n",
      "11/11 [==============================] - 0s 4ms/step - loss: 23.6326 - mae: 3.2985 - val_loss: 24.5353 - val_mae: 3.4320\n",
      "Epoch 86/100\n",
      "11/11 [==============================] - 0s 4ms/step - loss: 22.7083 - mae: 3.2539 - val_loss: 21.6559 - val_mae: 3.2825\n",
      "Epoch 87/100\n",
      "11/11 [==============================] - 0s 4ms/step - loss: 22.7834 - mae: 3.3791 - val_loss: 22.4570 - val_mae: 3.3826\n",
      "Epoch 88/100\n",
      "11/11 [==============================] - 0s 4ms/step - loss: 22.7752 - mae: 3.3240 - val_loss: 23.2910 - val_mae: 3.3059\n",
      "Epoch 89/100\n",
      "11/11 [==============================] - 0s 4ms/step - loss: 23.1185 - mae: 3.3417 - val_loss: 23.5093 - val_mae: 3.3993\n",
      "Epoch 90/100\n",
      "11/11 [==============================] - 0s 4ms/step - loss: 22.7261 - mae: 3.2951 - val_loss: 22.4022 - val_mae: 3.3342\n",
      "Epoch 91/100\n",
      "11/11 [==============================] - 0s 4ms/step - loss: 22.5022 - mae: 3.2664 - val_loss: 23.0988 - val_mae: 3.4182\n",
      "Epoch 92/100\n",
      "11/11 [==============================] - 0s 4ms/step - loss: 22.4878 - mae: 3.4389 - val_loss: 23.3014 - val_mae: 3.4672\n",
      "Epoch 93/100\n",
      "11/11 [==============================] - 0s 4ms/step - loss: 23.1046 - mae: 3.4490 - val_loss: 23.3619 - val_mae: 3.4066\n",
      "Epoch 94/100\n",
      "11/11 [==============================] - 0s 4ms/step - loss: 23.0221 - mae: 3.3919 - val_loss: 23.9569 - val_mae: 3.4508\n",
      "Epoch 95/100\n",
      "11/11 [==============================] - 0s 4ms/step - loss: 22.4159 - mae: 3.3700 - val_loss: 23.0080 - val_mae: 3.3472\n",
      "Epoch 96/100\n",
      "11/11 [==============================] - 0s 4ms/step - loss: 22.4265 - mae: 3.3415 - val_loss: 23.6256 - val_mae: 3.3956\n",
      "Epoch 97/100\n",
      "11/11 [==============================] - 0s 4ms/step - loss: 22.5778 - mae: 3.3859 - val_loss: 22.8035 - val_mae: 3.3092\n",
      "Epoch 98/100\n",
      "11/11 [==============================] - 0s 4ms/step - loss: 22.8531 - mae: 3.3994 - val_loss: 23.3156 - val_mae: 3.3447\n",
      "Epoch 99/100\n",
      "11/11 [==============================] - 0s 4ms/step - loss: 22.7982 - mae: 3.3638 - val_loss: 23.0637 - val_mae: 3.3495\n",
      "Epoch 100/100\n",
      "11/11 [==============================] - 0s 4ms/step - loss: 22.4138 - mae: 3.3393 - val_loss: 24.2035 - val_mae: 3.4896\n"
     ]
    }
   ],
   "source": [
    "model.compile(loss='mse', optimizer='adam', metrics=['mae'])\n",
    "history = model.fit(train_data, train_labels, epochs=100, validation_split=0.2 )"
   ]
  },
  {
   "cell_type": "code",
   "execution_count": 7,
   "id": "a7cbdc53",
   "metadata": {},
   "outputs": [
    {
     "data": {
      "image/png": "[encoded data removed]",
      "text/plain": [
       "<Figure size 864x360 with 2 Axes>"
      ]
     },
     "metadata": {},
     "output_type": "display_data"
    }
   ],
   "source": [
    "# 모델 학습 히스토리에서 loss, val_loss, mae, val_mae를 차트로 보여줍니다.\n",
    "plt.style.use('seaborn-white')\n",
    "\n",
    "history_dict = history.history\n",
    "\n",
    "loss = history_dict['loss']\n",
    "val_loss = history_dict['val_loss']\n",
    "\n",
    "epochs = range(1, len(loss) + 1)\n",
    "fig = plt.figure(figsize=(12, 5))\n",
    "\n",
    "ax1 = fig.add_subplot(1, 2, 1)\n",
    "ax1.plot(epochs, loss, 'b-', label='train_loss')\n",
    "ax1.plot(epochs, val_loss, 'r-', label='val_loss')\n",
    "ax1.set_title('Train and Validation Loss')\n",
    "ax1.set_xlabel('Epochs')\n",
    "ax1.set_ylabel('Loss')\n",
    "ax1.grid()\n",
    "ax1.legend()\n",
    "\n",
    "mae = history_dict['mae']\n",
    "val_mae = history_dict['val_mae']\n",
    "\n",
    "ax2 = fig.add_subplot(1, 2, 2)\n",
    "ax2.plot(epochs, mae, 'b-', label='train_mae')\n",
    "ax2.plot(epochs, val_mae, 'r-', label='val_mae')\n",
    "ax2.set_title('Train and Validation MAE')\n",
    "ax2.set_xlabel('Epochs')\n",
    "ax2.set_ylabel('Accuracy')\n",
    "ax2.grid()\n",
    "ax2.legend()\n",
    "\n",
    "plt.show()"
   ]
  },
  {
   "cell_type": "code",
   "execution_count": 8,
   "id": "8485bc68",
   "metadata": {},
   "outputs": [
    {
     "name": "stdout",
     "output_type": "stream",
     "text": [
      "4/4 [==============================] - 0s 2ms/step - loss: 21.9763 - mae: 3.3979\n"
     ]
    },
    {
     "data": {
      "text/plain": [
       "[21.976261138916016, 3.3978893756866455]"
      ]
     },
     "execution_count": 8,
     "metadata": {},
     "output_type": "execute_result"
    }
   ],
   "source": [
    "# 문제 1-4: 테스트 데이터셋을 이용해 모델을 평가합니다.\n",
    "# [[YOUR CODE]]\n",
    "\n",
    "model.evaluate(test_data, test_labels)"
   ]
  }
 ],
 "metadata": {
  "kernelspec": {
   "display_name": "Python 3 (ipykernel)",
   "language": "python",
   "name": "python3"
  },
  "language_info": {
   "codemirror_mode": {
    "name": "ipython",
    "version": 3
   },
   "file_extension": ".py",
   "mimetype": "text/x-python",
   "name": "python",
   "nbconvert_exporter": "python",
   "pygments_lexer": "ipython3",
   "version": "3.9.7"
  }
 },
 "nbformat": 4,
 "nbformat_minor": 5
}
